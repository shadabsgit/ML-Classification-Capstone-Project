{
  "nbformat": 4,
  "nbformat_minor": 0,
  "metadata": {
    "colab": {
      "provenance": [],
      "collapsed_sections": [
        "LGcl5Bv9ed6u",
        "AzGDqdC4fZ-b",
        "CooMuC4xs0vM",
        "-VvH_g2duhwj",
        "H1zW1IkDu3Tj",
        "hhxR_DnpwPME",
        "56IMC0pew4ES",
        "dzfVMIPPword"
      ]
    },
    "kernelspec": {
      "name": "python3",
      "display_name": "Python 3"
    },
    "language_info": {
      "name": "python"
    }
  },
  "cells": [
    {
      "cell_type": "markdown",
      "metadata": {
        "id": "LGcl5Bv9ed6u"
      },
      "source": [
        "# **Problem Statement**"
      ]
    },
    {
      "cell_type": "markdown",
      "metadata": {
        "id": "jJAmGx75jJk1"
      },
      "source": [
        "Our client is an Insurance company that has provided Health Insurance to its customers now they need your help in building a model to predict whether the policyholders (customers) from past year will also be interested in Vehicle Insurance provided by the company.\n",
        "\n",
        "An insurance policy is an arrangement by which a company undertakes to provide a guarantee of compensation for specified loss, damage, illness, or death in return for the payment of a specified premium. A premium is a sum of money that the customer needs to pay regularly to an insurance company for this guarantee.\n",
        "\n",
        "For example, you may pay a premium of Rs. 5000 each year for a health insurance cover of Rs. 200,000/- so that if, God forbid, you fall ill and need to be hospitalised in that year, the insurance provider company will bear the cost of hospitalisation etc. for upto Rs. 200,000. Now if you are wondering how can company bear such high hospitalisation cost when it charges a premium of only Rs. 5000/-, that is where the concept of probabilities comes in picture. For example, like you, there may be 100 customers who would be paying a premium of Rs. 5000 every year, but only a few of them (say 2-3) would get hospitalised that year and not everyone. This way everyone shares the risk of everyone else.\n",
        "\n",
        "Just like medical insurance, there is vehicle insurance where every year customer needs to pay a premium of certain amount to insurance provider company so that in case of unfortunate accident by the vehicle, the insurance provider company will provide a compensation (called ‘sum assured’) to the customer.\n",
        "\n",
        "Building a model to predict whether a customer would be interested in Vehicle Insurance is extremely helpful for the company because it can then accordingly plan its communication strategy to reach out to those customers and optimise its business model and revenue.\n",
        "\n",
        "Now, in order to predict, whether the customer would be interested in Vehicle insurance, you have information about demographics (gender, age, region code type), Vehicles (Vehicle Age, Damage), Policy (Premium, sourcing channel) etc."
      ]
    },
    {
      "cell_type": "markdown",
      "metadata": {
        "id": "AzGDqdC4fZ-b"
      },
      "source": [
        "# **Attribute Information**"
      ]
    },
    {
      "cell_type": "markdown",
      "metadata": {
        "id": "oEJxl68MjYbs"
      },
      "source": [
        "1. id :\tUnique ID for the customer\n",
        "\n",
        "2. Gender\t: Gender of the customer\n",
        "\n",
        "3. Age :\tAge of the customer\n",
        "\n",
        "4. Driving_License\t0 : Customer does not have DL, 1 : Customer already has DL\n",
        "\n",
        "5. Region_Code :\tUnique code for the region of the customer\n",
        "\n",
        "6. Previously_Insured\t: 1 : Customer already has Vehicle Insurance, 0 : Customer doesn't have Vehicle Insurance\n",
        "\n",
        "7. Vehicle_Age :\tAge of the Vehicle\n",
        "\n",
        "8. Vehicle_Damage\t :1 : Customer got his/her vehicle damaged in the past. 0 : Customer didn't get his/her vehicle damaged in the past.\n",
        "\n",
        "9. Annual_Premium\t: The amount customer needs to pay as premium in the year\n",
        "\n",
        "10. PolicySalesChannel :\tAnonymized Code for the channel of outreaching to the customer ie. Different Agents, Over Mail, Over Phone, In Person, etc.\n",
        "\n",
        "11. Vintage :\tNumber of Days, Customer has been associated with the company\n",
        "\n",
        "12. Response :\t1 : Customer is interested, 0 : Customer is not interested"
      ]
    },
    {
      "cell_type": "markdown",
      "source": [
        "#Importing Libraries"
      ],
      "metadata": {
        "id": "CooMuC4xs0vM"
      }
    },
    {
      "cell_type": "code",
      "source": [
        "#Data Wrangling\n",
        "import numpy as np\n",
        "import pandas as pd\n",
        "\n",
        "#Data Visualisation\n",
        "import seaborn as sns\n",
        "import matplotlib.pyplot as plt\n",
        "%matplotlib inline\n",
        "\n",
        "#Suppress Future warnings\n",
        "import warnings\n",
        "warnings.filterwarnings('ignore')"
      ],
      "metadata": {
        "id": "M5s5c8SZs0FJ"
      },
      "execution_count": 1,
      "outputs": []
    },
    {
      "cell_type": "markdown",
      "source": [
        "#Reading the Dataset"
      ],
      "metadata": {
        "id": "gFXxkXQutW36"
      }
    },
    {
      "cell_type": "code",
      "source": [
        "#Define url for stored dataset\n",
        "url = 'https://drive.google.com/uc?export=download&id=1AW5Gz6IqktDOoIjaBeWvy-HMaF5Y84sX'\n",
        "\n",
        "#Read the csv file into pandas dataframe\n",
        "data = pd.read_csv(url)"
      ],
      "metadata": {
        "id": "G6f_Uj55tReI"
      },
      "execution_count": 2,
      "outputs": []
    },
    {
      "cell_type": "markdown",
      "source": [
        "###Observing raw data visually "
      ],
      "metadata": {
        "id": "-VvH_g2duhwj"
      }
    },
    {
      "cell_type": "code",
      "source": [
        "#Getting the first 5 observations\n",
        "data.head()"
      ],
      "metadata": {
        "colab": {
          "base_uri": "https://localhost:8080/",
          "height": 206
        },
        "id": "QqdEQMMJtydH",
        "outputId": "bf734c31-d715-4e6b-cf93-d2e19bc67c20"
      },
      "execution_count": 3,
      "outputs": [
        {
          "output_type": "execute_result",
          "data": {
            "text/plain": [
              "   id  Gender  Age  Driving_License  Region_Code  Previously_Insured  \\\n",
              "0   1    Male   44                1         28.0                   0   \n",
              "1   2    Male   76                1          3.0                   0   \n",
              "2   3    Male   47                1         28.0                   0   \n",
              "3   4    Male   21                1         11.0                   1   \n",
              "4   5  Female   29                1         41.0                   1   \n",
              "\n",
              "  Vehicle_Age Vehicle_Damage  Annual_Premium  Policy_Sales_Channel  Vintage  \\\n",
              "0   > 2 Years            Yes         40454.0                  26.0      217   \n",
              "1    1-2 Year             No         33536.0                  26.0      183   \n",
              "2   > 2 Years            Yes         38294.0                  26.0       27   \n",
              "3    < 1 Year             No         28619.0                 152.0      203   \n",
              "4    < 1 Year             No         27496.0                 152.0       39   \n",
              "\n",
              "   Response  \n",
              "0         1  \n",
              "1         0  \n",
              "2         1  \n",
              "3         0  \n",
              "4         0  "
            ],
            "text/html": [
              "\n",
              "  <div id=\"df-f4d1d78b-6252-4402-ad09-9a055d36d0d2\">\n",
              "    <div class=\"colab-df-container\">\n",
              "      <div>\n",
              "<style scoped>\n",
              "    .dataframe tbody tr th:only-of-type {\n",
              "        vertical-align: middle;\n",
              "    }\n",
              "\n",
              "    .dataframe tbody tr th {\n",
              "        vertical-align: top;\n",
              "    }\n",
              "\n",
              "    .dataframe thead th {\n",
              "        text-align: right;\n",
              "    }\n",
              "</style>\n",
              "<table border=\"1\" class=\"dataframe\">\n",
              "  <thead>\n",
              "    <tr style=\"text-align: right;\">\n",
              "      <th></th>\n",
              "      <th>id</th>\n",
              "      <th>Gender</th>\n",
              "      <th>Age</th>\n",
              "      <th>Driving_License</th>\n",
              "      <th>Region_Code</th>\n",
              "      <th>Previously_Insured</th>\n",
              "      <th>Vehicle_Age</th>\n",
              "      <th>Vehicle_Damage</th>\n",
              "      <th>Annual_Premium</th>\n",
              "      <th>Policy_Sales_Channel</th>\n",
              "      <th>Vintage</th>\n",
              "      <th>Response</th>\n",
              "    </tr>\n",
              "  </thead>\n",
              "  <tbody>\n",
              "    <tr>\n",
              "      <th>0</th>\n",
              "      <td>1</td>\n",
              "      <td>Male</td>\n",
              "      <td>44</td>\n",
              "      <td>1</td>\n",
              "      <td>28.0</td>\n",
              "      <td>0</td>\n",
              "      <td>&gt; 2 Years</td>\n",
              "      <td>Yes</td>\n",
              "      <td>40454.0</td>\n",
              "      <td>26.0</td>\n",
              "      <td>217</td>\n",
              "      <td>1</td>\n",
              "    </tr>\n",
              "    <tr>\n",
              "      <th>1</th>\n",
              "      <td>2</td>\n",
              "      <td>Male</td>\n",
              "      <td>76</td>\n",
              "      <td>1</td>\n",
              "      <td>3.0</td>\n",
              "      <td>0</td>\n",
              "      <td>1-2 Year</td>\n",
              "      <td>No</td>\n",
              "      <td>33536.0</td>\n",
              "      <td>26.0</td>\n",
              "      <td>183</td>\n",
              "      <td>0</td>\n",
              "    </tr>\n",
              "    <tr>\n",
              "      <th>2</th>\n",
              "      <td>3</td>\n",
              "      <td>Male</td>\n",
              "      <td>47</td>\n",
              "      <td>1</td>\n",
              "      <td>28.0</td>\n",
              "      <td>0</td>\n",
              "      <td>&gt; 2 Years</td>\n",
              "      <td>Yes</td>\n",
              "      <td>38294.0</td>\n",
              "      <td>26.0</td>\n",
              "      <td>27</td>\n",
              "      <td>1</td>\n",
              "    </tr>\n",
              "    <tr>\n",
              "      <th>3</th>\n",
              "      <td>4</td>\n",
              "      <td>Male</td>\n",
              "      <td>21</td>\n",
              "      <td>1</td>\n",
              "      <td>11.0</td>\n",
              "      <td>1</td>\n",
              "      <td>&lt; 1 Year</td>\n",
              "      <td>No</td>\n",
              "      <td>28619.0</td>\n",
              "      <td>152.0</td>\n",
              "      <td>203</td>\n",
              "      <td>0</td>\n",
              "    </tr>\n",
              "    <tr>\n",
              "      <th>4</th>\n",
              "      <td>5</td>\n",
              "      <td>Female</td>\n",
              "      <td>29</td>\n",
              "      <td>1</td>\n",
              "      <td>41.0</td>\n",
              "      <td>1</td>\n",
              "      <td>&lt; 1 Year</td>\n",
              "      <td>No</td>\n",
              "      <td>27496.0</td>\n",
              "      <td>152.0</td>\n",
              "      <td>39</td>\n",
              "      <td>0</td>\n",
              "    </tr>\n",
              "  </tbody>\n",
              "</table>\n",
              "</div>\n",
              "      <button class=\"colab-df-convert\" onclick=\"convertToInteractive('df-f4d1d78b-6252-4402-ad09-9a055d36d0d2')\"\n",
              "              title=\"Convert this dataframe to an interactive table.\"\n",
              "              style=\"display:none;\">\n",
              "        \n",
              "  <svg xmlns=\"http://www.w3.org/2000/svg\" height=\"24px\"viewBox=\"0 0 24 24\"\n",
              "       width=\"24px\">\n",
              "    <path d=\"M0 0h24v24H0V0z\" fill=\"none\"/>\n",
              "    <path d=\"M18.56 5.44l.94 2.06.94-2.06 2.06-.94-2.06-.94-.94-2.06-.94 2.06-2.06.94zm-11 1L8.5 8.5l.94-2.06 2.06-.94-2.06-.94L8.5 2.5l-.94 2.06-2.06.94zm10 10l.94 2.06.94-2.06 2.06-.94-2.06-.94-.94-2.06-.94 2.06-2.06.94z\"/><path d=\"M17.41 7.96l-1.37-1.37c-.4-.4-.92-.59-1.43-.59-.52 0-1.04.2-1.43.59L10.3 9.45l-7.72 7.72c-.78.78-.78 2.05 0 2.83L4 21.41c.39.39.9.59 1.41.59.51 0 1.02-.2 1.41-.59l7.78-7.78 2.81-2.81c.8-.78.8-2.07 0-2.86zM5.41 20L4 18.59l7.72-7.72 1.47 1.35L5.41 20z\"/>\n",
              "  </svg>\n",
              "      </button>\n",
              "      \n",
              "  <style>\n",
              "    .colab-df-container {\n",
              "      display:flex;\n",
              "      flex-wrap:wrap;\n",
              "      gap: 12px;\n",
              "    }\n",
              "\n",
              "    .colab-df-convert {\n",
              "      background-color: #E8F0FE;\n",
              "      border: none;\n",
              "      border-radius: 50%;\n",
              "      cursor: pointer;\n",
              "      display: none;\n",
              "      fill: #1967D2;\n",
              "      height: 32px;\n",
              "      padding: 0 0 0 0;\n",
              "      width: 32px;\n",
              "    }\n",
              "\n",
              "    .colab-df-convert:hover {\n",
              "      background-color: #E2EBFA;\n",
              "      box-shadow: 0px 1px 2px rgba(60, 64, 67, 0.3), 0px 1px 3px 1px rgba(60, 64, 67, 0.15);\n",
              "      fill: #174EA6;\n",
              "    }\n",
              "\n",
              "    [theme=dark] .colab-df-convert {\n",
              "      background-color: #3B4455;\n",
              "      fill: #D2E3FC;\n",
              "    }\n",
              "\n",
              "    [theme=dark] .colab-df-convert:hover {\n",
              "      background-color: #434B5C;\n",
              "      box-shadow: 0px 1px 3px 1px rgba(0, 0, 0, 0.15);\n",
              "      filter: drop-shadow(0px 1px 2px rgba(0, 0, 0, 0.3));\n",
              "      fill: #FFFFFF;\n",
              "    }\n",
              "  </style>\n",
              "\n",
              "      <script>\n",
              "        const buttonEl =\n",
              "          document.querySelector('#df-f4d1d78b-6252-4402-ad09-9a055d36d0d2 button.colab-df-convert');\n",
              "        buttonEl.style.display =\n",
              "          google.colab.kernel.accessAllowed ? 'block' : 'none';\n",
              "\n",
              "        async function convertToInteractive(key) {\n",
              "          const element = document.querySelector('#df-f4d1d78b-6252-4402-ad09-9a055d36d0d2');\n",
              "          const dataTable =\n",
              "            await google.colab.kernel.invokeFunction('convertToInteractive',\n",
              "                                                     [key], {});\n",
              "          if (!dataTable) return;\n",
              "\n",
              "          const docLinkHtml = 'Like what you see? Visit the ' +\n",
              "            '<a target=\"_blank\" href=https://colab.research.google.com/notebooks/data_table.ipynb>data table notebook</a>'\n",
              "            + ' to learn more about interactive tables.';\n",
              "          element.innerHTML = '';\n",
              "          dataTable['output_type'] = 'display_data';\n",
              "          await google.colab.output.renderOutput(dataTable, element);\n",
              "          const docLink = document.createElement('div');\n",
              "          docLink.innerHTML = docLinkHtml;\n",
              "          element.appendChild(docLink);\n",
              "        }\n",
              "      </script>\n",
              "    </div>\n",
              "  </div>\n",
              "  "
            ]
          },
          "metadata": {},
          "execution_count": 3
        }
      ]
    },
    {
      "cell_type": "code",
      "source": [
        "#Getting the last 5 observations\n",
        "data.tail()"
      ],
      "metadata": {
        "colab": {
          "base_uri": "https://localhost:8080/",
          "height": 206
        },
        "id": "cv0oG8MDtpcD",
        "outputId": "e7936963-2d85-43db-9199-6532c04231b3"
      },
      "execution_count": 4,
      "outputs": [
        {
          "output_type": "execute_result",
          "data": {
            "text/plain": [
              "            id  Gender  Age  Driving_License  Region_Code  Previously_Insured  \\\n",
              "381104  381105    Male   74                1         26.0                   1   \n",
              "381105  381106    Male   30                1         37.0                   1   \n",
              "381106  381107    Male   21                1         30.0                   1   \n",
              "381107  381108  Female   68                1         14.0                   0   \n",
              "381108  381109    Male   46                1         29.0                   0   \n",
              "\n",
              "       Vehicle_Age Vehicle_Damage  Annual_Premium  Policy_Sales_Channel  \\\n",
              "381104    1-2 Year             No         30170.0                  26.0   \n",
              "381105    < 1 Year             No         40016.0                 152.0   \n",
              "381106    < 1 Year             No         35118.0                 160.0   \n",
              "381107   > 2 Years            Yes         44617.0                 124.0   \n",
              "381108    1-2 Year             No         41777.0                  26.0   \n",
              "\n",
              "        Vintage  Response  \n",
              "381104       88         0  \n",
              "381105      131         0  \n",
              "381106      161         0  \n",
              "381107       74         0  \n",
              "381108      237         0  "
            ],
            "text/html": [
              "\n",
              "  <div id=\"df-07c3c791-a766-4bc2-8879-e1c590296d9d\">\n",
              "    <div class=\"colab-df-container\">\n",
              "      <div>\n",
              "<style scoped>\n",
              "    .dataframe tbody tr th:only-of-type {\n",
              "        vertical-align: middle;\n",
              "    }\n",
              "\n",
              "    .dataframe tbody tr th {\n",
              "        vertical-align: top;\n",
              "    }\n",
              "\n",
              "    .dataframe thead th {\n",
              "        text-align: right;\n",
              "    }\n",
              "</style>\n",
              "<table border=\"1\" class=\"dataframe\">\n",
              "  <thead>\n",
              "    <tr style=\"text-align: right;\">\n",
              "      <th></th>\n",
              "      <th>id</th>\n",
              "      <th>Gender</th>\n",
              "      <th>Age</th>\n",
              "      <th>Driving_License</th>\n",
              "      <th>Region_Code</th>\n",
              "      <th>Previously_Insured</th>\n",
              "      <th>Vehicle_Age</th>\n",
              "      <th>Vehicle_Damage</th>\n",
              "      <th>Annual_Premium</th>\n",
              "      <th>Policy_Sales_Channel</th>\n",
              "      <th>Vintage</th>\n",
              "      <th>Response</th>\n",
              "    </tr>\n",
              "  </thead>\n",
              "  <tbody>\n",
              "    <tr>\n",
              "      <th>381104</th>\n",
              "      <td>381105</td>\n",
              "      <td>Male</td>\n",
              "      <td>74</td>\n",
              "      <td>1</td>\n",
              "      <td>26.0</td>\n",
              "      <td>1</td>\n",
              "      <td>1-2 Year</td>\n",
              "      <td>No</td>\n",
              "      <td>30170.0</td>\n",
              "      <td>26.0</td>\n",
              "      <td>88</td>\n",
              "      <td>0</td>\n",
              "    </tr>\n",
              "    <tr>\n",
              "      <th>381105</th>\n",
              "      <td>381106</td>\n",
              "      <td>Male</td>\n",
              "      <td>30</td>\n",
              "      <td>1</td>\n",
              "      <td>37.0</td>\n",
              "      <td>1</td>\n",
              "      <td>&lt; 1 Year</td>\n",
              "      <td>No</td>\n",
              "      <td>40016.0</td>\n",
              "      <td>152.0</td>\n",
              "      <td>131</td>\n",
              "      <td>0</td>\n",
              "    </tr>\n",
              "    <tr>\n",
              "      <th>381106</th>\n",
              "      <td>381107</td>\n",
              "      <td>Male</td>\n",
              "      <td>21</td>\n",
              "      <td>1</td>\n",
              "      <td>30.0</td>\n",
              "      <td>1</td>\n",
              "      <td>&lt; 1 Year</td>\n",
              "      <td>No</td>\n",
              "      <td>35118.0</td>\n",
              "      <td>160.0</td>\n",
              "      <td>161</td>\n",
              "      <td>0</td>\n",
              "    </tr>\n",
              "    <tr>\n",
              "      <th>381107</th>\n",
              "      <td>381108</td>\n",
              "      <td>Female</td>\n",
              "      <td>68</td>\n",
              "      <td>1</td>\n",
              "      <td>14.0</td>\n",
              "      <td>0</td>\n",
              "      <td>&gt; 2 Years</td>\n",
              "      <td>Yes</td>\n",
              "      <td>44617.0</td>\n",
              "      <td>124.0</td>\n",
              "      <td>74</td>\n",
              "      <td>0</td>\n",
              "    </tr>\n",
              "    <tr>\n",
              "      <th>381108</th>\n",
              "      <td>381109</td>\n",
              "      <td>Male</td>\n",
              "      <td>46</td>\n",
              "      <td>1</td>\n",
              "      <td>29.0</td>\n",
              "      <td>0</td>\n",
              "      <td>1-2 Year</td>\n",
              "      <td>No</td>\n",
              "      <td>41777.0</td>\n",
              "      <td>26.0</td>\n",
              "      <td>237</td>\n",
              "      <td>0</td>\n",
              "    </tr>\n",
              "  </tbody>\n",
              "</table>\n",
              "</div>\n",
              "      <button class=\"colab-df-convert\" onclick=\"convertToInteractive('df-07c3c791-a766-4bc2-8879-e1c590296d9d')\"\n",
              "              title=\"Convert this dataframe to an interactive table.\"\n",
              "              style=\"display:none;\">\n",
              "        \n",
              "  <svg xmlns=\"http://www.w3.org/2000/svg\" height=\"24px\"viewBox=\"0 0 24 24\"\n",
              "       width=\"24px\">\n",
              "    <path d=\"M0 0h24v24H0V0z\" fill=\"none\"/>\n",
              "    <path d=\"M18.56 5.44l.94 2.06.94-2.06 2.06-.94-2.06-.94-.94-2.06-.94 2.06-2.06.94zm-11 1L8.5 8.5l.94-2.06 2.06-.94-2.06-.94L8.5 2.5l-.94 2.06-2.06.94zm10 10l.94 2.06.94-2.06 2.06-.94-2.06-.94-.94-2.06-.94 2.06-2.06.94z\"/><path d=\"M17.41 7.96l-1.37-1.37c-.4-.4-.92-.59-1.43-.59-.52 0-1.04.2-1.43.59L10.3 9.45l-7.72 7.72c-.78.78-.78 2.05 0 2.83L4 21.41c.39.39.9.59 1.41.59.51 0 1.02-.2 1.41-.59l7.78-7.78 2.81-2.81c.8-.78.8-2.07 0-2.86zM5.41 20L4 18.59l7.72-7.72 1.47 1.35L5.41 20z\"/>\n",
              "  </svg>\n",
              "      </button>\n",
              "      \n",
              "  <style>\n",
              "    .colab-df-container {\n",
              "      display:flex;\n",
              "      flex-wrap:wrap;\n",
              "      gap: 12px;\n",
              "    }\n",
              "\n",
              "    .colab-df-convert {\n",
              "      background-color: #E8F0FE;\n",
              "      border: none;\n",
              "      border-radius: 50%;\n",
              "      cursor: pointer;\n",
              "      display: none;\n",
              "      fill: #1967D2;\n",
              "      height: 32px;\n",
              "      padding: 0 0 0 0;\n",
              "      width: 32px;\n",
              "    }\n",
              "\n",
              "    .colab-df-convert:hover {\n",
              "      background-color: #E2EBFA;\n",
              "      box-shadow: 0px 1px 2px rgba(60, 64, 67, 0.3), 0px 1px 3px 1px rgba(60, 64, 67, 0.15);\n",
              "      fill: #174EA6;\n",
              "    }\n",
              "\n",
              "    [theme=dark] .colab-df-convert {\n",
              "      background-color: #3B4455;\n",
              "      fill: #D2E3FC;\n",
              "    }\n",
              "\n",
              "    [theme=dark] .colab-df-convert:hover {\n",
              "      background-color: #434B5C;\n",
              "      box-shadow: 0px 1px 3px 1px rgba(0, 0, 0, 0.15);\n",
              "      filter: drop-shadow(0px 1px 2px rgba(0, 0, 0, 0.3));\n",
              "      fill: #FFFFFF;\n",
              "    }\n",
              "  </style>\n",
              "\n",
              "      <script>\n",
              "        const buttonEl =\n",
              "          document.querySelector('#df-07c3c791-a766-4bc2-8879-e1c590296d9d button.colab-df-convert');\n",
              "        buttonEl.style.display =\n",
              "          google.colab.kernel.accessAllowed ? 'block' : 'none';\n",
              "\n",
              "        async function convertToInteractive(key) {\n",
              "          const element = document.querySelector('#df-07c3c791-a766-4bc2-8879-e1c590296d9d');\n",
              "          const dataTable =\n",
              "            await google.colab.kernel.invokeFunction('convertToInteractive',\n",
              "                                                     [key], {});\n",
              "          if (!dataTable) return;\n",
              "\n",
              "          const docLinkHtml = 'Like what you see? Visit the ' +\n",
              "            '<a target=\"_blank\" href=https://colab.research.google.com/notebooks/data_table.ipynb>data table notebook</a>'\n",
              "            + ' to learn more about interactive tables.';\n",
              "          element.innerHTML = '';\n",
              "          dataTable['output_type'] = 'display_data';\n",
              "          await google.colab.output.renderOutput(dataTable, element);\n",
              "          const docLink = document.createElement('div');\n",
              "          docLink.innerHTML = docLinkHtml;\n",
              "          element.appendChild(docLink);\n",
              "        }\n",
              "      </script>\n",
              "    </div>\n",
              "  </div>\n",
              "  "
            ]
          },
          "metadata": {},
          "execution_count": 4
        }
      ]
    },
    {
      "cell_type": "markdown",
      "source": [
        "###Dropping 'id' column"
      ],
      "metadata": {
        "id": "snl9q_A5Hsd_"
      }
    },
    {
      "cell_type": "markdown",
      "source": [
        "We will drop 'id' column because it is redundant and has high cardinality and does not contribute in any way for prediction.\n"
      ],
      "metadata": {
        "id": "qeWFCbhlHyDR"
      }
    },
    {
      "cell_type": "code",
      "source": [
        "data.drop(columns='id', inplace=True)"
      ],
      "metadata": {
        "id": "jAAbSzd6Hyn3"
      },
      "execution_count": 11,
      "outputs": []
    },
    {
      "cell_type": "markdown",
      "source": [
        "###Data Information"
      ],
      "metadata": {
        "id": "H1zW1IkDu3Tj"
      }
    },
    {
      "cell_type": "code",
      "source": [
        "data.info()"
      ],
      "metadata": {
        "colab": {
          "base_uri": "https://localhost:8080/"
        },
        "id": "Xu0jZeO4uZOZ",
        "outputId": "4d8f33cb-4d7f-40aa-be82-0688f2f6d2ac"
      },
      "execution_count": 12,
      "outputs": [
        {
          "output_type": "stream",
          "name": "stdout",
          "text": [
            "<class 'pandas.core.frame.DataFrame'>\n",
            "RangeIndex: 381109 entries, 0 to 381108\n",
            "Data columns (total 11 columns):\n",
            " #   Column                Non-Null Count   Dtype  \n",
            "---  ------                --------------   -----  \n",
            " 0   Gender                381109 non-null  object \n",
            " 1   Age                   381109 non-null  int64  \n",
            " 2   Driving_License       381109 non-null  int64  \n",
            " 3   Region_Code           381109 non-null  float64\n",
            " 4   Previously_Insured    381109 non-null  int64  \n",
            " 5   Vehicle_Age           381109 non-null  object \n",
            " 6   Vehicle_Damage        381109 non-null  object \n",
            " 7   Annual_Premium        381109 non-null  float64\n",
            " 8   Policy_Sales_Channel  381109 non-null  float64\n",
            " 9   Vintage               381109 non-null  int64  \n",
            " 10  Response              381109 non-null  int64  \n",
            "dtypes: float64(3), int64(5), object(3)\n",
            "memory usage: 32.0+ MB\n"
          ]
        }
      ]
    },
    {
      "cell_type": "markdown",
      "source": [
        "###Descriptive Statistics"
      ],
      "metadata": {
        "id": "hhxR_DnpwPME"
      }
    },
    {
      "cell_type": "code",
      "source": [
        "data.describe().transpose()"
      ],
      "metadata": {
        "colab": {
          "base_uri": "https://localhost:8080/",
          "height": 300
        },
        "id": "5k9jhoa1wM6g",
        "outputId": "7871d161-0a5f-4b9b-b1c9-d9a4ccc1d699"
      },
      "execution_count": 13,
      "outputs": [
        {
          "output_type": "execute_result",
          "data": {
            "text/plain": [
              "                         count          mean           std     min      25%  \\\n",
              "Age                   381109.0     38.822584     15.511611    20.0     25.0   \n",
              "Driving_License       381109.0      0.997869      0.046110     0.0      1.0   \n",
              "Region_Code           381109.0     26.388807     13.229888     0.0     15.0   \n",
              "Previously_Insured    381109.0      0.458210      0.498251     0.0      0.0   \n",
              "Annual_Premium        381109.0  30564.389581  17213.155057  2630.0  24405.0   \n",
              "Policy_Sales_Channel  381109.0    112.034295     54.203995     1.0     29.0   \n",
              "Vintage               381109.0    154.347397     83.671304    10.0     82.0   \n",
              "Response              381109.0      0.122563      0.327936     0.0      0.0   \n",
              "\n",
              "                          50%      75%       max  \n",
              "Age                      36.0     49.0      85.0  \n",
              "Driving_License           1.0      1.0       1.0  \n",
              "Region_Code              28.0     35.0      52.0  \n",
              "Previously_Insured        0.0      1.0       1.0  \n",
              "Annual_Premium        31669.0  39400.0  540165.0  \n",
              "Policy_Sales_Channel    133.0    152.0     163.0  \n",
              "Vintage                 154.0    227.0     299.0  \n",
              "Response                  0.0      0.0       1.0  "
            ],
            "text/html": [
              "\n",
              "  <div id=\"df-f8181136-9984-473d-8348-ccbff90b6f6c\">\n",
              "    <div class=\"colab-df-container\">\n",
              "      <div>\n",
              "<style scoped>\n",
              "    .dataframe tbody tr th:only-of-type {\n",
              "        vertical-align: middle;\n",
              "    }\n",
              "\n",
              "    .dataframe tbody tr th {\n",
              "        vertical-align: top;\n",
              "    }\n",
              "\n",
              "    .dataframe thead th {\n",
              "        text-align: right;\n",
              "    }\n",
              "</style>\n",
              "<table border=\"1\" class=\"dataframe\">\n",
              "  <thead>\n",
              "    <tr style=\"text-align: right;\">\n",
              "      <th></th>\n",
              "      <th>count</th>\n",
              "      <th>mean</th>\n",
              "      <th>std</th>\n",
              "      <th>min</th>\n",
              "      <th>25%</th>\n",
              "      <th>50%</th>\n",
              "      <th>75%</th>\n",
              "      <th>max</th>\n",
              "    </tr>\n",
              "  </thead>\n",
              "  <tbody>\n",
              "    <tr>\n",
              "      <th>Age</th>\n",
              "      <td>381109.0</td>\n",
              "      <td>38.822584</td>\n",
              "      <td>15.511611</td>\n",
              "      <td>20.0</td>\n",
              "      <td>25.0</td>\n",
              "      <td>36.0</td>\n",
              "      <td>49.0</td>\n",
              "      <td>85.0</td>\n",
              "    </tr>\n",
              "    <tr>\n",
              "      <th>Driving_License</th>\n",
              "      <td>381109.0</td>\n",
              "      <td>0.997869</td>\n",
              "      <td>0.046110</td>\n",
              "      <td>0.0</td>\n",
              "      <td>1.0</td>\n",
              "      <td>1.0</td>\n",
              "      <td>1.0</td>\n",
              "      <td>1.0</td>\n",
              "    </tr>\n",
              "    <tr>\n",
              "      <th>Region_Code</th>\n",
              "      <td>381109.0</td>\n",
              "      <td>26.388807</td>\n",
              "      <td>13.229888</td>\n",
              "      <td>0.0</td>\n",
              "      <td>15.0</td>\n",
              "      <td>28.0</td>\n",
              "      <td>35.0</td>\n",
              "      <td>52.0</td>\n",
              "    </tr>\n",
              "    <tr>\n",
              "      <th>Previously_Insured</th>\n",
              "      <td>381109.0</td>\n",
              "      <td>0.458210</td>\n",
              "      <td>0.498251</td>\n",
              "      <td>0.0</td>\n",
              "      <td>0.0</td>\n",
              "      <td>0.0</td>\n",
              "      <td>1.0</td>\n",
              "      <td>1.0</td>\n",
              "    </tr>\n",
              "    <tr>\n",
              "      <th>Annual_Premium</th>\n",
              "      <td>381109.0</td>\n",
              "      <td>30564.389581</td>\n",
              "      <td>17213.155057</td>\n",
              "      <td>2630.0</td>\n",
              "      <td>24405.0</td>\n",
              "      <td>31669.0</td>\n",
              "      <td>39400.0</td>\n",
              "      <td>540165.0</td>\n",
              "    </tr>\n",
              "    <tr>\n",
              "      <th>Policy_Sales_Channel</th>\n",
              "      <td>381109.0</td>\n",
              "      <td>112.034295</td>\n",
              "      <td>54.203995</td>\n",
              "      <td>1.0</td>\n",
              "      <td>29.0</td>\n",
              "      <td>133.0</td>\n",
              "      <td>152.0</td>\n",
              "      <td>163.0</td>\n",
              "    </tr>\n",
              "    <tr>\n",
              "      <th>Vintage</th>\n",
              "      <td>381109.0</td>\n",
              "      <td>154.347397</td>\n",
              "      <td>83.671304</td>\n",
              "      <td>10.0</td>\n",
              "      <td>82.0</td>\n",
              "      <td>154.0</td>\n",
              "      <td>227.0</td>\n",
              "      <td>299.0</td>\n",
              "    </tr>\n",
              "    <tr>\n",
              "      <th>Response</th>\n",
              "      <td>381109.0</td>\n",
              "      <td>0.122563</td>\n",
              "      <td>0.327936</td>\n",
              "      <td>0.0</td>\n",
              "      <td>0.0</td>\n",
              "      <td>0.0</td>\n",
              "      <td>0.0</td>\n",
              "      <td>1.0</td>\n",
              "    </tr>\n",
              "  </tbody>\n",
              "</table>\n",
              "</div>\n",
              "      <button class=\"colab-df-convert\" onclick=\"convertToInteractive('df-f8181136-9984-473d-8348-ccbff90b6f6c')\"\n",
              "              title=\"Convert this dataframe to an interactive table.\"\n",
              "              style=\"display:none;\">\n",
              "        \n",
              "  <svg xmlns=\"http://www.w3.org/2000/svg\" height=\"24px\"viewBox=\"0 0 24 24\"\n",
              "       width=\"24px\">\n",
              "    <path d=\"M0 0h24v24H0V0z\" fill=\"none\"/>\n",
              "    <path d=\"M18.56 5.44l.94 2.06.94-2.06 2.06-.94-2.06-.94-.94-2.06-.94 2.06-2.06.94zm-11 1L8.5 8.5l.94-2.06 2.06-.94-2.06-.94L8.5 2.5l-.94 2.06-2.06.94zm10 10l.94 2.06.94-2.06 2.06-.94-2.06-.94-.94-2.06-.94 2.06-2.06.94z\"/><path d=\"M17.41 7.96l-1.37-1.37c-.4-.4-.92-.59-1.43-.59-.52 0-1.04.2-1.43.59L10.3 9.45l-7.72 7.72c-.78.78-.78 2.05 0 2.83L4 21.41c.39.39.9.59 1.41.59.51 0 1.02-.2 1.41-.59l7.78-7.78 2.81-2.81c.8-.78.8-2.07 0-2.86zM5.41 20L4 18.59l7.72-7.72 1.47 1.35L5.41 20z\"/>\n",
              "  </svg>\n",
              "      </button>\n",
              "      \n",
              "  <style>\n",
              "    .colab-df-container {\n",
              "      display:flex;\n",
              "      flex-wrap:wrap;\n",
              "      gap: 12px;\n",
              "    }\n",
              "\n",
              "    .colab-df-convert {\n",
              "      background-color: #E8F0FE;\n",
              "      border: none;\n",
              "      border-radius: 50%;\n",
              "      cursor: pointer;\n",
              "      display: none;\n",
              "      fill: #1967D2;\n",
              "      height: 32px;\n",
              "      padding: 0 0 0 0;\n",
              "      width: 32px;\n",
              "    }\n",
              "\n",
              "    .colab-df-convert:hover {\n",
              "      background-color: #E2EBFA;\n",
              "      box-shadow: 0px 1px 2px rgba(60, 64, 67, 0.3), 0px 1px 3px 1px rgba(60, 64, 67, 0.15);\n",
              "      fill: #174EA6;\n",
              "    }\n",
              "\n",
              "    [theme=dark] .colab-df-convert {\n",
              "      background-color: #3B4455;\n",
              "      fill: #D2E3FC;\n",
              "    }\n",
              "\n",
              "    [theme=dark] .colab-df-convert:hover {\n",
              "      background-color: #434B5C;\n",
              "      box-shadow: 0px 1px 3px 1px rgba(0, 0, 0, 0.15);\n",
              "      filter: drop-shadow(0px 1px 2px rgba(0, 0, 0, 0.3));\n",
              "      fill: #FFFFFF;\n",
              "    }\n",
              "  </style>\n",
              "\n",
              "      <script>\n",
              "        const buttonEl =\n",
              "          document.querySelector('#df-f8181136-9984-473d-8348-ccbff90b6f6c button.colab-df-convert');\n",
              "        buttonEl.style.display =\n",
              "          google.colab.kernel.accessAllowed ? 'block' : 'none';\n",
              "\n",
              "        async function convertToInteractive(key) {\n",
              "          const element = document.querySelector('#df-f8181136-9984-473d-8348-ccbff90b6f6c');\n",
              "          const dataTable =\n",
              "            await google.colab.kernel.invokeFunction('convertToInteractive',\n",
              "                                                     [key], {});\n",
              "          if (!dataTable) return;\n",
              "\n",
              "          const docLinkHtml = 'Like what you see? Visit the ' +\n",
              "            '<a target=\"_blank\" href=https://colab.research.google.com/notebooks/data_table.ipynb>data table notebook</a>'\n",
              "            + ' to learn more about interactive tables.';\n",
              "          element.innerHTML = '';\n",
              "          dataTable['output_type'] = 'display_data';\n",
              "          await google.colab.output.renderOutput(dataTable, element);\n",
              "          const docLink = document.createElement('div');\n",
              "          docLink.innerHTML = docLinkHtml;\n",
              "          element.appendChild(docLink);\n",
              "        }\n",
              "      </script>\n",
              "    </div>\n",
              "  </div>\n",
              "  "
            ]
          },
          "metadata": {},
          "execution_count": 13
        }
      ]
    },
    {
      "cell_type": "markdown",
      "source": [
        "###Checking for Missing Observations"
      ],
      "metadata": {
        "id": "56IMC0pew4ES"
      }
    },
    {
      "cell_type": "code",
      "source": [
        "print('Missing value count with respect to each column:')\n",
        "data.isna().sum()"
      ],
      "metadata": {
        "colab": {
          "base_uri": "https://localhost:8080/"
        },
        "id": "CGR4D_hHw8t7",
        "outputId": "4f69cf1e-898a-459f-ff81-576f61de4a01"
      },
      "execution_count": 14,
      "outputs": [
        {
          "output_type": "stream",
          "name": "stdout",
          "text": [
            "Missing value count with respect to each column:\n"
          ]
        },
        {
          "output_type": "execute_result",
          "data": {
            "text/plain": [
              "Gender                  0\n",
              "Age                     0\n",
              "Driving_License         0\n",
              "Region_Code             0\n",
              "Previously_Insured      0\n",
              "Vehicle_Age             0\n",
              "Vehicle_Damage          0\n",
              "Annual_Premium          0\n",
              "Policy_Sales_Channel    0\n",
              "Vintage                 0\n",
              "Response                0\n",
              "dtype: int64"
            ]
          },
          "metadata": {},
          "execution_count": 14
        }
      ]
    },
    {
      "cell_type": "markdown",
      "source": [
        "###Identifying continuous and discrete features"
      ],
      "metadata": {
        "id": "rghIXl6M9UpN"
      }
    },
    {
      "cell_type": "markdown",
      "source": [
        "Since we do not have a lot of features in the raw dataset, a visual inspections looking at counts of unique values of each features will be enough."
      ],
      "metadata": {
        "id": "svTXapua9bfb"
      }
    },
    {
      "cell_type": "code",
      "source": [
        "for col in data.columns:\n",
        "    print(f\"{col}: \")\n",
        "    print(\"\")\n",
        "    print(data[col].unique())\n",
        "    print(\"\")"
      ],
      "metadata": {
        "colab": {
          "base_uri": "https://localhost:8080/"
        },
        "id": "4O_ArlQuL5JG",
        "outputId": "c06cf4d8-5179-4514-ae83-24eabdd8eabd"
      },
      "execution_count": 22,
      "outputs": [
        {
          "output_type": "stream",
          "name": "stdout",
          "text": [
            "Gender: \n",
            "\n",
            "['Male' 'Female']\n",
            "\n",
            "Age: \n",
            "\n",
            "[44 76 47 21 29 24 23 56 32 41 71 37 25 42 60 65 49 34 51 26 57 79 48 45\n",
            " 72 30 54 27 38 22 78 20 39 62 58 59 63 50 67 77 28 69 52 31 33 43 36 53\n",
            " 70 46 55 40 61 75 64 35 66 68 74 73 84 83 81 80 82 85]\n",
            "\n",
            "Driving_License: \n",
            "\n",
            "[1 0]\n",
            "\n",
            "Region_Code: \n",
            "\n",
            "[28.  3. 11. 41. 33.  6. 35. 50. 15. 45.  8. 36. 30. 26. 16. 47. 48. 19.\n",
            " 39. 23. 37.  5. 17.  2.  7. 29. 46. 27. 25. 13. 18. 20. 49. 22. 44.  0.\n",
            "  9. 31. 12. 34. 21. 10. 14. 38. 24. 40. 43. 32.  4. 51. 42.  1. 52.]\n",
            "\n",
            "Previously_Insured: \n",
            "\n",
            "[0 1]\n",
            "\n",
            "Vehicle_Age: \n",
            "\n",
            "['> 2 Years' '1-2 Year' '< 1 Year']\n",
            "\n",
            "Vehicle_Damage: \n",
            "\n",
            "['Yes' 'No']\n",
            "\n",
            "Annual_Premium: \n",
            "\n",
            "[ 40454.  33536.  38294. ...  20706. 101664.  69845.]\n",
            "\n",
            "Policy_Sales_Channel: \n",
            "\n",
            "[ 26. 152. 160. 124.  14.  13.  30. 156. 163. 157. 122.  19.  22.  15.\n",
            " 154.  16.  52. 155.  11. 151. 125.  25.  61.   1.  86.  31. 150.  23.\n",
            "  60.  21. 121.   3. 139.  12.  29.  55.   7.  47. 127. 153.  78. 158.\n",
            "  89.  32.   8.  10. 120.  65.   4.  42.  83. 136.  24.  18.  56.  48.\n",
            " 106.  54.  93. 116.  91.  45.   9. 145. 147.  44. 109.  37. 140. 107.\n",
            " 128. 131. 114. 118. 159. 119. 105. 135.  62. 138. 129.  88.  92. 111.\n",
            " 113.  73.  36.  28.  35.  59.  53. 148. 133. 108.  64.  39.  94. 132.\n",
            "  46.  81. 103.  90.  51.  27. 146.  63.  96.  40.  66. 100.  95. 123.\n",
            "  98.  75.  69. 130. 134.  49.  97.  38.  17. 110.  80.  71. 117.  58.\n",
            "  20.  76. 104.  87.  84. 137. 126.  68.  67. 101. 115.  57.  82.  79.\n",
            " 112.  99.  70.   2.  34.  33.  74. 102. 149.  43.   6.  50. 144. 143.\n",
            "  41.]\n",
            "\n",
            "Vintage: \n",
            "\n",
            "[217 183  27 203  39 176 249  72  28  80  46 289 221  15  58 147 256 299\n",
            " 158 102 116 177 232  60 180  49  57 223 136 222 149 169  88 253 107 264\n",
            " 233  45 184 251 153 186  71  34  83  12 246 141 216 130 282  73 171 283\n",
            " 295 165  30 218  22  36  79  81 100  63 242 277  61 111 167  74 235 131\n",
            " 243 248 114 281  62 189 139 138 209 254 291  68  92  52  78 156 247 275\n",
            "  77 181 229 166  16  23  31 293 219  50 155  66 260  19 258 117 193 204\n",
            " 212 144 234 206 228 125  29  18  84 230  54 123 101  86  13 237  85  98\n",
            "  67 128  95  89  99 208 134 135 268 284 119 226 105 142 207 272 263  64\n",
            "  40 245 163  24 265 202 259  91 106 190 162  33 194 287 292  69 239 132\n",
            " 255 152 121 150 143 198 103 127 285 214 151 199  56  59 215 104 238 120\n",
            "  21  32 270 211 200 197  11 213  93 113 178  10 290  94 231 296  47 122\n",
            " 271 278 276  96 240 172 257 224 173 220 185  90  51 205  70 160 137 168\n",
            "  87 118 288 126 241  82 227 115 164 236 286 244 108 274 201  97  25 174\n",
            " 182 154  48  20  53  17 261  41 266  35 140 269 146 145  65 298 133 195\n",
            "  55 188  75  38  43 110  37 129 170 109 267 279 112 280  76 191  26 161\n",
            " 179 175 252  42 124 187 148 294  44 157 192 262 159 210 250  14 273 297\n",
            " 225 196]\n",
            "\n",
            "Response: \n",
            "\n",
            "[1 0]\n",
            "\n"
          ]
        }
      ]
    },
    {
      "cell_type": "markdown",
      "source": [
        "###Defining Continuous and Discrete Features"
      ],
      "metadata": {
        "id": "GGT-rlKrMrop"
      }
    },
    {
      "cell_type": "code",
      "source": [
        "discrete_features = [i for i in data.columns if data[i].nunique() <= 3]\n",
        "\n",
        "print('Discrete Features: ', discrete_features)\n",
        "\n",
        "continuous_features = [i for i in data.columns if i not in discrete_features]\n",
        "\n",
        "print('Continuous Features: ', continuous_features)"
      ],
      "metadata": {
        "colab": {
          "base_uri": "https://localhost:8080/"
        },
        "id": "lRB5jmwQMx_R",
        "outputId": "49cc04bd-d5ea-4957-ccdb-d53f9b19fa16"
      },
      "execution_count": 25,
      "outputs": [
        {
          "output_type": "stream",
          "name": "stdout",
          "text": [
            "Discrete Features:  ['Gender', 'Driving_License', 'Previously_Insured', 'Vehicle_Age', 'Vehicle_Damage', 'Response']\n",
            "Continuous Features:  ['Age', 'Region_Code', 'Annual_Premium', 'Policy_Sales_Channel', 'Vintage']\n"
          ]
        }
      ]
    },
    {
      "cell_type": "markdown",
      "source": [
        "###**Observations**"
      ],
      "metadata": {
        "id": "cQz1RvT4yX-u"
      }
    },
    {
      "cell_type": "markdown",
      "source": [
        "* Our original Dataset contains 381109 rows and 12 columns.\n",
        "* There are 5 numerical and 5 catagorical features present in our dataset.\n",
        "* Our target variable ('Response') is catagorical and dichotomous, hence this is a **Binary Classification** problem.\n",
        "* There are no **Null** values present in our dataset."
      ],
      "metadata": {
        "id": "94ZKy6LTyek9"
      }
    },
    {
      "cell_type": "markdown",
      "source": [
        "#EDA, Data Cleaning and Manipulation"
      ],
      "metadata": {
        "id": "K37-RnojLgC_"
      }
    },
    {
      "cell_type": "markdown",
      "source": [
        "##Handling Outliers"
      ],
      "metadata": {
        "id": "XG6WjtOlfjZc"
      }
    },
    {
      "cell_type": "markdown",
      "source": [
        "###Checking for outliers"
      ],
      "metadata": {
        "id": "myCgy9PBLj1A"
      }
    },
    {
      "cell_type": "markdown",
      "source": [
        "We can use distplots and boxplots to visualize distribution and find outliers in the features"
      ],
      "metadata": {
        "id": "iBPZ6GZ4bKPC"
      }
    },
    {
      "cell_type": "code",
      "source": [
        "# Plotting Distributions\n",
        "plt.figure(figsize=(22,4))\n",
        "for n,column in enumerate(continuous_features):\n",
        "  plt.subplot(1, 5, n+1)\n",
        "  sns.distplot(data[column])\n",
        "  plt.title(f'{column.title()}',weight='bold')\n",
        "  plt.tight_layout()\n",
        "\n",
        "#Boxplots for detecting outliers\n",
        "plt.figure(figsize=(22,4))\n",
        "for n,column in enumerate(continuous_features):\n",
        "  plt.subplot(1, 5, n+1)\n",
        "  sns.boxplot(x=data['Response'], y=data[column])\n",
        "  plt.title(f'{column.title()}',weight='bold')\n",
        "  plt.tight_layout()"
      ],
      "metadata": {
        "colab": {
          "base_uri": "https://localhost:8080/",
          "height": 505
        },
        "id": "U5Z6Xo87Vf7r",
        "outputId": "218ab7cb-9089-4870-8839-d6cff39ebdc4"
      },
      "execution_count": 40,
      "outputs": [
        {
          "output_type": "display_data",
          "data": {
            "text/plain": [
              "<Figure size 1584x288 with 5 Axes>"
            ],
            "image/png": "[encoded data removed]"
          },
          "metadata": {
            "needs_background": "light"
          }
        },
        {
          "output_type": "display_data",
          "data": {
            "text/plain": [
              "<Figure size 1584x288 with 5 Axes>"
            ],
            "image/png": "[encoded data removed]"
          },
          "metadata": {
            "needs_background": "light"
          }
        }
      ]
    },
    {
      "cell_type": "markdown",
      "source": [
        "####Observations:\n",
        "* **Annual_Premium** appears to contain a large number of outliers and is positively skewed.\n",
        "* Other features do not seem to contain a lot of outliers.\n",
        "* **Age** is a little skewed toward right but we do not need to treat them."
      ],
      "metadata": {
        "id": "fq7XnflgTBij"
      }
    },
    {
      "cell_type": "markdown",
      "source": [
        "###Treating Outliers"
      ],
      "metadata": {
        "id": "w2nQA4mpbekj"
      }
    },
    {
      "cell_type": "markdown",
      "source": [
        "We will be using quantile method to treat outliers in "
      ],
      "metadata": {
        "id": "SD2UI9gpb1Xi"
      }
    },
    {
      "cell_type": "code",
      "source": [
        "#Defining Median, Q1 and Q3 for 'Annual_Premium' column\n",
        "q1, q3, median = data['Annual_Premium'].quantile([0.25,0.75,0.5])\n",
        "\n",
        "#Finding upper and lower limits\n",
        "lower_limit = q1 - 1.5*(q3-q1)\n",
        "upper_limit = q3 + 1.5*(q3-q1)\n",
        "\n",
        "data['Annual_Premium'] = np.where(data['Annual_Premium'] > upper_limit, median,np.where(\n",
        "                            data['Annual_Premium'] < lower_limit,median,data['Annual_Premium']))"
      ],
      "metadata": {
        "id": "WBqEqY_OPnv7"
      },
      "execution_count": 44,
      "outputs": []
    },
    {
      "cell_type": "code",
      "source": [
        "fig, axes = plt.subplots(1, 2, figsize=(15,5))\n",
        "sns.boxplot(ax = axes[0], x=data['Response'], y=data['Annual_Premium']).set_title('Annual_Premium')\n",
        "sns.distplot(ax = axes[1], x=data['Annual_Premium']).set_title('Annual_Premium')"
      ],
      "metadata": {
        "colab": {
          "base_uri": "https://localhost:8080/",
          "height": 367
        },
        "id": "e-OGdW4eeDo0",
        "outputId": "88f84e9a-fb93-4b1e-f36a-7ff1687695a1"
      },
      "execution_count": 46,
      "outputs": [
        {
          "output_type": "execute_result",
          "data": {
            "text/plain": [
              "Text(0.5, 1.0, 'Annual_Premium')"
            ]
          },
          "metadata": {},
          "execution_count": 46
        },
        {
          "output_type": "display_data",
          "data": {
            "text/plain": [
              "<Figure size 1080x360 with 2 Axes>"
            ],
            "image/png": "[encoded data removed]"
          },
          "metadata": {
            "needs_background": "light"
          }
        }
      ]
    },
    {
      "cell_type": "markdown",
      "source": [
        "####Observations:\n",
        "* **Annual_Premium** no longer contains outliers"
      ],
      "metadata": {
        "id": "ChXgz4aifw81"
      }
    },
    {
      "cell_type": "markdown",
      "source": [
        "##Univariate Analysis"
      ],
      "metadata": {
        "id": "EQIFSTbcf2l-"
      }
    },
    {
      "cell_type": "markdown",
      "source": [
        "###Target variable"
      ],
      "metadata": {
        "id": "B3VHTv3jhwgi"
      }
    },
    {
      "cell_type": "markdown",
      "source": [
        "###Categorical Features"
      ],
      "metadata": {
        "id": "zWb6qJMsgYrM"
      }
    },
    {
      "cell_type": "code",
      "source": [
        "plt.figure(figsize=(24,6))\n",
        "for n,column in enumerate(discrete_features[:-1]):\n",
        "  plt.subplot(1, 5, n+1)\n",
        "  sns.set_theme(style=\"darkgrid\")\n",
        "  ax = sns.countplot(data[column])\n",
        "\n",
        "  total = float(len(data))\n",
        "  for p in ax.patches:\n",
        "    percentage = '{:.1f}%'.format(100 * p.get_height()/total)\n",
        "    x = p.get_x() + p.get_width()\n",
        "    y = p.get_height()\n",
        "    ax.annotate(percentage, (x, y), ha='center', va='center')\n",
        "  plt.tight_layout()"
      ],
      "metadata": {
        "colab": {
          "base_uri": "https://localhost:8080/",
          "height": 353
        },
        "id": "QCPuoNw9gsIT",
        "outputId": "0a014aa0-12f8-495f-db74-158ad3bfadd8"
      },
      "execution_count": 60,
      "outputs": [
        {
          "output_type": "display_data",
          "data": {
            "text/plain": [
              "<Figure size 1728x432 with 5 Axes>"
            ],
            "image/png": "[encoded data removed]"
          },
          "metadata": {}
        }
      ]
    },
    {
      "cell_type": "markdown",
      "source": [
        "####Observations:\n",
        "* **Gender** column suggests that number of Male customers is higher than Female customers.\n",
        "* Numer most of the customers posess a driving license. "
      ],
      "metadata": {
        "id": "LKdjo8ciiFU_"
      }
    },
    {
      "cell_type": "code",
      "source": [],
      "metadata": {
        "id": "0h1s3wNDlmGv"
      },
      "execution_count": null,
      "outputs": []
    }
  ]
}